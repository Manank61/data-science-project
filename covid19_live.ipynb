{
 "cells": [
  {
   "cell_type": "code",
   "execution_count": 43,
   "metadata": {},
   "outputs": [],
   "source": [
    "\n",
    "import pandas as pd\n",
    "\n",
    "# Load data\n",
    "WORLD_CONFIRMED_URL = 'https://raw.githubusercontent.com/CSSEGISandData/COVID-19/master/csse_covid_19_data/csse_covid_19_time_series/time_series_covid19_confirmed_global.csv'\n",
    "WORLD_DEATHS_URL = 'https://raw.githubusercontent.com/CSSEGISandData/COVID-19/master/csse_covid_19_data/csse_covid_19_time_series/time_series_covid19_deaths_global.csv'\n",
    "WORLD_RECOVERED_URL = 'https://raw.githubusercontent.com/CSSEGISandData/COVID-19/master/csse_covid_19_data/csse_covid_19_time_series/time_series_covid19_recovered_global.csv'\n",
    "\n",
    "world_confirmed = pd.read_csv('https://raw.githubusercontent.com/CSSEGISandData/COVID-19/master/csse_covid_19_data/csse_covid_19_time_series/time_series_covid19_confirmed_global.csv'
W)\n",
    "world_deaths = pd.read_csv('https://raw.githubusercontent.com/CSSEGISandData/COVID-19/master/csse_covid_19_data/csse_covid_19_time_series/time_series_covid19_deaths_global.csv')\n",
    "world_recovered = pd.read_csv('https://raw.githubusercontent.com/CSSEGISandData/COVID-19/master/csse_covid_19_data/csse_covid_19_time_series/time_series_covid19_recovered_global.csv')\n",
    "\n",
    "sets = [world_confirmed, world_deaths, world_recovered]\n",
    "\n",
    "for i in range(3):\n",
    "    sets[i].rename(columns={'Country/Region':'Country', 'Province/State':'State'}, inplace=True)\n",
    "    sets[i][['State']] = sets[i][['State']].fillna('')\n",
    "    sets[i].fillna(0, inplace=True)\n",
    "   "
   ]
  },
  {
   "cell_type": "code",
   "execution_count": 44,
   "metadata": {},
   "outputs": [],
   "source": [
    "grouped=[]\n",
    "for i in range(3):\n",
    "    grouped.append(sets[i].groupby('Country').sum())"
   ]
  },
  {
   "cell_type": "code",
   "execution_count": 45,
   "metadata": {},
   "outputs": [],
   "source": [
    "import datetime\n",
    "yesterday = world_confirmed.columns[-1]\n",
    "def daily( ):\n",
    "    daily_case=[df.sort_values(by=yesterday, ascending=False).iloc[:10, 2:].diff(axis=1).T \n",
    "                          for df in grouped]\n",
    "    return daily_case\n",
    "\n"
   ]
  },
  {
   "cell_type": "code",
   "execution_count": 46,
   "metadata": {},
   "outputs": [],
   "source": [
    "roll = 7\n",
    "\n",
    "def rolling(n_since=100, roll=roll):\n",
    "\n",
    "    # transform to rolling average\n",
    "    dFs = daily()\n",
    "    \n",
    "    sets_grouped_daily_top_rolled = []\n",
    "    for i in range (3): # Transform each dataset at a time\n",
    "        dF = dFs[i] \n",
    "        top_countries = dF.columns\n",
    "        # get the rolling mean\n",
    "        dF = dF.rolling(roll).mean()\n",
    "        # for each column in a DF, get rows >= n_since and reset index\n",
    "        since = [pd.DataFrame( dF[i][dF[i] >= n_since].reset_index(drop=True) ) for i in top_countries]\n",
    "        # concatenate the columns\n",
    "        sets_grouped_daily_top_rolled.append(pd.concat(since, axis=1, join='outer'))\n",
    "\n",
    "    return sets_grouped_daily_top_rolled"
   ]
  },
  {
   "cell_type": "code",
   "execution_count": 25,
   "metadata": {},
   "outputs": [
    {
     "data": {
      "text/plain": [
       "'C:\\\\Users\\\\manank\\\\Documents\\\\covid 19 project\\\\manank.html'"
      ]
     },
     "execution_count": 25,
     "metadata": {},
     "output_type": "execute_result"
    }
   ],
   "source": [
    "\n",
    "def bokeh_plot(dataF,cat, n_since, tickers):\n",
    "\n",
    "    from bokeh.io import output_notebook, output_file, show, reset_output\n",
    "    from bokeh.plotting import figure, save\n",
    "    from bokeh.models import ColumnDataSource, NumeralTickFormatter, HoverTool\n",
    "    from bokeh.palettes import Category20\n",
    "\n",
    "    select_tools = ['box_zoom', 'pan', 'wheel_zoom', 'reset', 'crosshair', 'save']\n",
    "    tooltips = [\n",
    "        ('', '$name'),\n",
    "        ('Days since', '$x{(0)}'), \n",
    "        ('{}'.format(cat), '$y{(0)}')\n",
    "    ]\n",
    "    p = figure(y_axis_type=\"log\", plot_width=840, plot_height=600, \n",
    "               x_axis_label='Days since average daily {} passed {}'.format(cat, n_since),\n",
    "               y_axis_label='',\n",
    "               title=\n",
    "               'Daily {} ({}-day rolling average) by number of days ' \\\n",
    "               'since {} cases - top {} countries ' \\\n",
    "               '(as of {})'.format(cat, roll, n_since, 10, yesterday),\n",
    "               toolbar_location='right',tools=select_tools)\n",
    "\n",
    "    for i in range(10):\n",
    "        p.line(dataF.index[:], dataF.iloc[:,i], line_width=2, color=Category20[20][i], alpha=0.8, \n",
    "               legend=dataF.columns[i], name=dataF.columns[i])\n",
    "        p.circle(dataF.index[:], dataF.iloc[:,i], color=Category20[20][i], fill_color='white',\n",
    "                 size=3, alpha=0.8, name=dataF.columns[i])\n",
    "\n",
    "    p.yaxis.ticker = tickers\n",
    "\n",
    "    p.legend.location = 'top_right'\n",
    "    p.legend.click_policy='hide'\n",
    "\n",
    "    p.add_tools(HoverTool(tooltips=tooltips))\n",
    "\n",
    "    output_file('manank.html'.format(cat))\n",
    "\n",
    "    return save(p, 'manank.html'.format(cat))\n",
    "      \n",
    "yticks = [5,10,20,50,100,200,500,1000,2000]\n",
    "bokeh_plot(rolling(n_since=3)[1], 'deaths', n_since=3, tickers=yticks) "
   ]
  }
 ],
 "metadata": {
  "kernelspec": {
   "display_name": "Python 3",
   "language": "python",
   "name": "python3"
  },
  "language_info": {
   "codemirror_mode": {
    "name": "ipython",
    "version": 3
   },
   "file_extension": ".py",
   "mimetype": "text/x-python",
   "name": "python",
   "nbconvert_exporter": "python",
   "pygments_lexer": "ipython3",
   "version": "3.7.4"
  }
 },
 "nbformat": 4,
 "nbformat_minor": 2
}
