{
 "cells": [
  {
   "cell_type": "code",
   "execution_count": 1,
   "metadata": {},
   "outputs": [],
   "source": [
    "\n",
    "import pandas as pd\n",
    "\n",
    "world_confirm = pd.read_csv('https://raw.githubusercontent.com/CSSEGISandData/COVID-19/master/csse_covid_19_data/csse_covid_19_time_series/time_series_covid19_confirmed_global.csv')\n",
    "world_deaths = pd.read_csv('https://raw.githubusercontent.com/CSSEGISandData/COVID-19/master/csse_covid_19_data/csse_covid_19_time_series/time_series_covid19_deaths_global.csv')\n",
    "world_recover = pd.read_csv('https://raw.githubusercontent.com/CSSEGISandData/COVID-19/master/csse_covid_19_data/csse_covid_19_time_series/time_series_covid19_recovered_global.csv')\n",
    "\n",
    "sets = [world_confirm, world_deaths, world_recover]\n",
    "\n",
    "for i in range(3):\n",
    "    sets[i].rename(columns={'Country/Region':'Country', 'Province/State':'State'}, inplace=True)\n",
    "    sets[i][['State']] = sets[i][['State']].fillna('')\n",
    "    sets[i].fillna(0, inplace=True)\n",
    "   "
   ]
  },
  {
   "cell_type": "code",
   "execution_count": 2,
   "metadata": {},
   "outputs": [],
   "source": [
    "grouped=[]\n",
    "for i in range(3):\n",
    "    grouped.append(sets[i].groupby('Country').sum())"
   ]
  },
  {
   "cell_type": "code",
   "execution_count": 3,
   "metadata": {},
   "outputs": [],
   "source": [
    "import datetime\n",
    "yesterday = world_confirm.columns[-1]\n",
    "def daily( ):\n",
    "    daily_case=[df.sort_values(by=yesterday, ascending=False).iloc[:10, 2:].diff(axis=1).T \n",
    "                          for df in grouped]\n",
    "    return daily_case\n",
    "\n"
   ]
  },
  {
   "cell_type": "code",
   "execution_count": 4,
   "metadata": {},
   "outputs": [],
   "source": [
    "roll = 7\n",
    "\n",
    "def rolling(n_since=100, roll=roll):\n",
    "\n",
    "    # transform to rolling average\n",
    "    dFs = daily()\n",
    "    \n",
    "    sets_grouped_daily_top_rolled = []\n",
    "    for i in range (3): # Transform each dataset at a time\n",
    "        dF = dFs[i] \n",
    "        top_countries = dF.columns\n",
    "        # get the rolling mean\n",
    "        dF = dF.rolling(roll).mean()\n",
    "        # for each column in a DF, get rows >= n_since and reset index\n",
    "        since = [pd.DataFrame( dF[i][dF[i] >= n_since].reset_index(drop=True) ) for i in top_countries]\n",
    "        # concatenate the columns\n",
    "        sets_grouped_daily_top_rolled.append(pd.concat(since, axis=1, join='outer'))\n",
    "\n",
    "    return sets_grouped_daily_top_rolled"
   ]
  },
  {
   "cell_type": "code",
   "execution_count": 5,
   "metadata": {},
   "outputs": [
    {
     "data": {
      "text/plain": [
       "'C:\\\\Users\\\\manank\\\\Documents\\\\covid 19 project\\\\manank.html'"
      ]
     },
     "execution_count": 5,
     "metadata": {},
     "output_type": "execute_result"
    }
   ],
   "source": [
    "\n",
    "def bokeh_plot(dataF,cat, n_since, tickers):\n",
    "\n",
    "    from bokeh.io import output_notebook, output_file, show, reset_output\n",
    "    from bokeh.plotting import figure, save\n",
    "    from bokeh.models import ColumnDataSource, NumeralTickFormatter, HoverTool\n",
    "    from bokeh.palettes import Category20\n",
    "\n",
    "    select_tools = ['box_zoom', 'pan', 'wheel_zoom', 'reset', 'crosshair', 'save']\n",
    "    tooltips = [\n",
    "        ('', '$name'),\n",
    "        ('Days since', '$x{(0)}'), \n",
    "        ('{}'.format(cat), '$y{(0)}')\n",
    "    ]\n",
    "    p = figure(y_axis_type=\"log\", plot_width=840, plot_height=600, \n",
    "               x_axis_label='Days since average daily {} passed {}'.format(cat, n_since),\n",
    "               y_axis_label='',\n",
    "               title=\n",
    "               'Daily {} ({}-day rolling average) by number of days ' \\\n",
    "               'since {} cases - top {} countries ' \\\n",
    "               '(as of {})'.format(cat, roll, n_since, 10, yesterday),\n",
    "               toolbar_location='right',tools=select_tools)\n",
    "\n",
    "    for i in range(10):\n",
    "        p.line(dataF.index[:], dataF.iloc[:,i], line_width=2, color=Category20[20][i], alpha=0.8, \n",
    "               legend=dataF.columns[i], name=dataF.columns[i])\n",
    "        p.circle(dataF.index[:], dataF.iloc[:,i], color=Category20[20][i], fill_color='white',\n",
    "                 size=3, alpha=0.8, name=dataF.columns[i])\n",
    "\n",
    "    p.legend.location = 'top_right'\n",
    "    p.legend.click_policy='hide'\n",
    "    p.yaxis.ticker = tickers\n",
    "\n",
    "    p.add_tools(HoverTool(tooltips=tooltips))\n",
    "\n",
    "    output_file('manank.html'.format(cat))\n",
    "\n",
    "    return save(p, 'manank.html'.format(cat))\n",
    "      \n",
    "yticks = [5,10,20,50,100,200,500,1000,2000]\n",
    "bokeh_plot(rolling(n_since=3)[1], 'deaths', n_since=10, tickers=yticks) "
   ]
  },
  {
   "cell_type": "code",
   "execution_count": 6,
   "metadata": {},
   "outputs": [
    {
     "ename": "NameError",
     "evalue": "name 'dateSlider' is not defined",
     "output_type": "error",
     "traceback": [
      "\u001b[1;31m---------------------------------------------------------------------------\u001b[0m",
      "\u001b[1;31mNameError\u001b[0m                                 Traceback (most recent call last)",
      "\u001b[1;32m<ipython-input-6-b358f4276b7f>\u001b[0m in \u001b[0;36m<module>\u001b[1;34m\u001b[0m\n\u001b[0;32m      8\u001b[0m \u001b[1;33m\u001b[0m\u001b[0m\n\u001b[0;32m      9\u001b[0m \u001b[0mrange_slider\u001b[0m \u001b[1;33m=\u001b[0m \u001b[0mRangeSlider\u001b[0m\u001b[1;33m(\u001b[0m\u001b[0mstart\u001b[0m\u001b[1;33m=\u001b[0m\u001b[1;36m0\u001b[0m\u001b[1;33m,\u001b[0m \u001b[0mend\u001b[0m\u001b[1;33m=\u001b[0m\u001b[1;36m10\u001b[0m\u001b[1;33m,\u001b[0m \u001b[0mvalue\u001b[0m\u001b[1;33m=\u001b[0m\u001b[1;33m(\u001b[0m\u001b[1;36m1\u001b[0m\u001b[1;33m,\u001b[0m\u001b[1;36m9\u001b[0m\u001b[1;33m)\u001b[0m\u001b[1;33m,\u001b[0m \u001b[0mstep\u001b[0m\u001b[1;33m=\u001b[0m\u001b[1;36m.1\u001b[0m\u001b[1;33m,\u001b[0m \u001b[0mtitle\u001b[0m\u001b[1;33m=\u001b[0m\u001b[1;34m\"Stuff\"\u001b[0m\u001b[1;33m)\u001b[0m\u001b[1;33m\u001b[0m\u001b[1;33m\u001b[0m\u001b[0m\n\u001b[1;32m---> 10\u001b[1;33m \u001b[0mdate_slider\u001b[0m \u001b[1;33m=\u001b[0m \u001b[0mdateSlider\u001b[0m\u001b[1;33m(\u001b[0m\u001b[0mtitle\u001b[0m\u001b[1;33m=\u001b[0m\u001b[1;34m\"Date Range: \"\u001b[0m\u001b[1;33m,\u001b[0m \u001b[0mstart\u001b[0m\u001b[1;33m=\u001b[0m\u001b[0mdate\u001b[0m\u001b[1;33m(\u001b[0m\u001b[1;36m2017\u001b[0m\u001b[1;33m,\u001b[0m \u001b[1;36m1\u001b[0m\u001b[1;33m,\u001b[0m \u001b[1;36m1\u001b[0m\u001b[1;33m)\u001b[0m\u001b[1;33m,\u001b[0m \u001b[0mend\u001b[0m\u001b[1;33m=\u001b[0m\u001b[0mdate\u001b[0m\u001b[1;33m.\u001b[0m\u001b[0mtoday\u001b[0m\u001b[1;33m(\u001b[0m\u001b[1;33m)\u001b[0m\u001b[1;33m,\u001b[0m \u001b[0mvalue\u001b[0m\u001b[1;33m=\u001b[0m\u001b[0mdate\u001b[0m\u001b[1;33m(\u001b[0m\u001b[1;36m2017\u001b[0m\u001b[1;33m,\u001b[0m \u001b[1;36m9\u001b[0m\u001b[1;33m,\u001b[0m \u001b[1;36m7\u001b[0m\u001b[1;33m)\u001b[0m\u001b[1;33m,\u001b[0m \u001b[0mstep\u001b[0m\u001b[1;33m=\u001b[0m\u001b[1;36m1\u001b[0m\u001b[1;33m)\u001b[0m\u001b[1;33m\u001b[0m\u001b[1;33m\u001b[0m\u001b[0m\n\u001b[0m\u001b[0;32m     11\u001b[0m \u001b[0mshow\u001b[0m\u001b[1;33m(\u001b[0m\u001b[0mdate_slider\u001b[0m\u001b[1;33m)\u001b[0m\u001b[1;33m\u001b[0m\u001b[1;33m\u001b[0m\u001b[0m\n",
      "\u001b[1;31mNameError\u001b[0m: name 'dateSlider' is not defined"
     ]
    }
   ],
   "source": [
    "from datetime import date\n",
    "\n",
    "from bokeh.models.widgets import DateRangeSlider\n",
    "from bokeh.io import output_file, show\n",
    "from bokeh.models import RangeSlider\n",
    "\n",
    "output_file(\"range_slider.html\")\n",
    "\n",
    "range_slider = RangeSlider(start=0, end=10, value=(1,9), step=.1, title=\"Stuff\")\n",
    "date_slider = dateSlider(title=\"Date Range: \", start=date(2017, 1, 1), end=date.today(), value=date(2017, 9, 7), step=1)\n",
    "show(date_slider)\n"
   ]
  },
  {
   "cell_type": "code",
   "execution_count": null,
   "metadata": {},
   "outputs": [],
   "source": [
    "from datetime import date\n",
    "\n",
    "from bokeh.models.widgets import DateRangeSlider\n",
    "from bokeh.layouts import layout\n",
    "\n",
    "from bokeh.io import curdoc\n",
    "\n",
    "date_range_slider = DateRangeSlider(title=\"Date Range: \", start=date(2020, 1, 22), end=date.today(), value=(date(2017, 9, 7), date(2017, 10, 15)), step=1)\n",
    "\n",
    "\n",
    "l = layout(children=[[date_range_slider]], sizing_mode='fixed')\n",
    "curdoc().add_root(l)\n",
    "curdoc().title = \"DateRangeSlider Example\"\n",
    "show(date_range_slider)"
   ]
  },
  {
   "cell_type": "code",
   "execution_count": null,
   "metadata": {},
   "outputs": [],
   "source": []
  }
 ],
 "metadata": {
  "kernelspec": {
   "display_name": "Python 3",
   "language": "python",
   "name": "python3"
  },
  "language_info": {
   "codemirror_mode": {
    "name": "ipython",
    "version": 3
   },
   "file_extension": ".py",
   "mimetype": "text/x-python",
   "name": "python",
   "nbconvert_exporter": "python",
   "pygments_lexer": "ipython3",
   "version": "3.7.4"
  }
 },
 "nbformat": 4,
 "nbformat_minor": 2
}
